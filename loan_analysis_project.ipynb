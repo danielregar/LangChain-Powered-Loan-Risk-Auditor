## Import Code

# !pip install langchain-openai
from langchain.chat_models import ChatOpenAI
from langchain_openai import OpenAIEmbeddings
from langchain_experimental.agents import create_pandas_dataframe_agent
from langchain.document_loaders import TextLoader
from langchain.text_splitter import RecursiveCharacterTextSplitter
from langchain.vectorstores import Chroma
from langchain.chains import RetrievalQA
import pandas as pd

## Load and Merge Data
users_df = pd.read_csv("data/users.csv")
repayment_df = pd.read_csv("data/repayments.csv")
loan_df = pd.read_csv("data/loan_applications.csv")

merge_df = pd.merge(loan_df, users_df, how="left", left_on="user_id", right_on="user_id")
final_df = pd.merge(merge_df, repayment_df, how="left", on="loan_id")

## Creating Agent
chat = ChatOpenAI(openai_api_key="OPENAI_API_KEY", model_name="gpt-3.5-turbo", temperature=0)
data_agent = create_pandas_dataframe_agent(chat, final_df, verbose=True, allow_dangerous_code=True)

loader = TextLoader(r"data\Loan Eligibility.txt")
documents = loader.load()
chunks = RecursiveCharacterTextSplitter(chunk_size=500, chunk_overlap=50).split_documents(documents)
embedding_model = OpenAIEmbeddings(openai_api_key="OPENAI_API_KEY")
db = Chroma.from_documents(chunks, embedding_model)
doc_agent = RetrievalQA.from_chain_type(llm=chat, retriever=db.as_retriever(), chain_type="stuff")

# ✅ How to Ask Questions
# data_agent.run("Your question here")   → for questions based on CSV data
# doc_agent.run("Your question here")    → for questions about the loan policy document

